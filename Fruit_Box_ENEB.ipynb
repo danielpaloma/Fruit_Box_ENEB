{
 "cells": [
  {
   "cell_type": "markdown",
   "metadata": {},
   "source": [
    "**Fruit Box - Proyecto de Customer Analytics**\n",
    "\n",
    "Se cuenta con una muestra de 100 transacciones.\n",
    "\n",
    "Primero importamos los datos disponibles de las transacciones de los clientes.\n",
    "Como las variables son categoricas, entonces las columnas tienen la siguiente codificación:\n",
    "\n",
    "* tamaño_caja: S = 1; M = 2; L = 3\n",
    "* frecuencia_compra: semanal = 1; quincenal = 2; mensual = 3; mayor a 1 mes = 4\n",
    "* canal: Telefono o postal = 1; tienda online = 2; app = 3; redes sociales = 4\n",
    "* antiguedad (en años): este valor está entre 1 y 4 años.\n",
    "\n",
    "Se cuenta con una tabla de datos inicial de 100 filas x 6 columnas.\n",
    "\n",
    "Con el método head() se muestran las primeras 5 filas de la tabla."
   ]
  },
  {
   "cell_type": "code",
   "execution_count": 18,
   "metadata": {},
   "outputs": [
    {
     "name": "stdout",
     "output_type": "stream",
     "text": [
      "Cantidad de filas y columnas:  (100, 6)\n"
     ]
    },
    {
     "data": {
      "text/html": [
       "<div>\n",
       "<style scoped>\n",
       "    .dataframe tbody tr th:only-of-type {\n",
       "        vertical-align: middle;\n",
       "    }\n",
       "\n",
       "    .dataframe tbody tr th {\n",
       "        vertical-align: top;\n",
       "    }\n",
       "\n",
       "    .dataframe thead th {\n",
       "        text-align: right;\n",
       "    }\n",
       "</style>\n",
       "<table border=\"1\" class=\"dataframe\">\n",
       "  <thead>\n",
       "    <tr style=\"text-align: right;\">\n",
       "      <th></th>\n",
       "      <th>id_transaccion</th>\n",
       "      <th>edad</th>\n",
       "      <th>tamaño_caja</th>\n",
       "      <th>frec_compra</th>\n",
       "      <th>canal</th>\n",
       "      <th>antiguo</th>\n",
       "    </tr>\n",
       "  </thead>\n",
       "  <tbody>\n",
       "    <tr>\n",
       "      <td>0</td>\n",
       "      <td>1</td>\n",
       "      <td>20</td>\n",
       "      <td>1</td>\n",
       "      <td>3</td>\n",
       "      <td>3</td>\n",
       "      <td>4</td>\n",
       "    </tr>\n",
       "    <tr>\n",
       "      <td>1</td>\n",
       "      <td>2</td>\n",
       "      <td>74</td>\n",
       "      <td>2</td>\n",
       "      <td>4</td>\n",
       "      <td>3</td>\n",
       "      <td>4</td>\n",
       "    </tr>\n",
       "    <tr>\n",
       "      <td>2</td>\n",
       "      <td>3</td>\n",
       "      <td>25</td>\n",
       "      <td>3</td>\n",
       "      <td>4</td>\n",
       "      <td>4</td>\n",
       "      <td>4</td>\n",
       "    </tr>\n",
       "    <tr>\n",
       "      <td>3</td>\n",
       "      <td>4</td>\n",
       "      <td>24</td>\n",
       "      <td>3</td>\n",
       "      <td>2</td>\n",
       "      <td>2</td>\n",
       "      <td>4</td>\n",
       "    </tr>\n",
       "    <tr>\n",
       "      <td>4</td>\n",
       "      <td>5</td>\n",
       "      <td>80</td>\n",
       "      <td>1</td>\n",
       "      <td>2</td>\n",
       "      <td>2</td>\n",
       "      <td>1</td>\n",
       "    </tr>\n",
       "  </tbody>\n",
       "</table>\n",
       "</div>"
      ],
      "text/plain": [
       "   id_transaccion  edad  tamaño_caja  frec_compra  canal  antiguo\n",
       "0               1    20            1            3      3        4\n",
       "1               2    74            2            4      3        4\n",
       "2               3    25            3            4      4        4\n",
       "3               4    24            3            2      2        4\n",
       "4               5    80            1            2      2        1"
      ]
     },
     "execution_count": 18,
     "metadata": {},
     "output_type": "execute_result"
    }
   ],
   "source": [
    "import pandas as pd\n",
    "import numpy as np\n",
    "import matplotlib.pyplot as plt\n",
    "import seaborn as sns\n",
    "\n",
    "\n",
    "df = pd.read_excel('datos_Fbox.xlsx')\n",
    "print('Cantidad de filas y columnas: ',df.shape)\n",
    "df.head()"
   ]
  },
  {
   "cell_type": "markdown",
   "metadata": {},
   "source": [
    "**1. Segmentación por rango de edades**\n",
    "\n",
    "Como la variable 'edad' toma valores entre 18 y 90 años, vamos a agrupar dichos valores creando grupos de edades. Se crean 5 grupos.\n",
    "\n",
    "Se observa que las personas mayores de 66 años son las más representativas en esta muestra.\n",
    "\n"
   ]
  },
  {
   "cell_type": "code",
   "execution_count": 14,
   "metadata": {},
   "outputs": [
    {
     "data": {
      "text/plain": [
       ">66      31\n",
       "41-55    22\n",
       "26-40    20\n",
       "18-25    17\n",
       "56-65    10\n",
       "Name: edad, dtype: int64"
      ]
     },
     "execution_count": 14,
     "metadata": {},
     "output_type": "execute_result"
    }
   ],
   "source": [
    "edad = df.edad\n",
    "bins = (0, 25, 40, 55, 65, np.Inf)  # The edges\n",
    "labels = ('18-25', '26-40', '41-55', '56-65', '>66')\n",
    "groups = pd.cut(edad, bins=bins, labels=labels).sort_values()\n",
    "\n",
    "groups.value_counts()"
   ]
  },
  {
   "cell_type": "markdown",
   "metadata": {},
   "source": [
    "Graficamos la cantidad de personas en cada grupo de edades:"
   ]
  },
  {
   "cell_type": "code",
   "execution_count": 3,
   "metadata": {},
   "outputs": [
    {
     "data": {
      "text/plain": [
       "Text(0.5, 1.0, 'Age groups')"
      ]
     },
     "execution_count": 3,
     "metadata": {},
     "output_type": "execute_result"
    },
    {
     "data": {
      "image/png": "[encoded data removed]",
      "text/plain": [
       "<Figure size 432x288 with 1 Axes>"
      ]
     },
     "metadata": {
      "needs_background": "light"
     },
     "output_type": "display_data"
    }
   ],
   "source": [
    "plt.hist(groups.sort_values())\n",
    "\n",
    "# set x/y labels and plot title\n",
    "plt.xlabel(\"age groups\")\n",
    "plt.ylabel(\"count\")\n",
    "plt.title(\"Age groups\")"
   ]
  },
  {
   "cell_type": "markdown",
   "metadata": {},
   "source": [
    "**2. Graficar grupos de Edad vs Tamaño de Caja**\n",
    "\n",
    "Primero, se crea una nueva columna en la tabla que contenga el grupo de edad al que pertenece cada usuario. De esta forma, se reduce la cantidad de valores de edad para manipular, porque inicialmente la columna 'edad' toma valores desde 18 hasta 90, es decir 72 valores diferentes. Al agrupar en 5 grupos de edades, reducimos esos 72 valores a solamente 5.\n",
    "\n",
    "Luego, respecto al tamaño de cajas, la cual es una variable categorica que toma 3 valores (S,M,L), debemos separar la columna inicial 'tamaño_caja' en 3 columnas aparte, con el fin de poder realizar el gráfico. Para esto se utiliza el metodo get_dummies(). "
   ]
  },
  {
   "cell_type": "code",
   "execution_count": 19,
   "metadata": {},
   "outputs": [
    {
     "name": "stdout",
     "output_type": "stream",
     "text": [
      "  grupo_edad  S  M  L\n",
      "0      18-25  1  0  0\n",
      "1        >66  0  1  0\n",
      "2      18-25  0  0  1\n",
      "3      18-25  0  0  1\n",
      "4        >66  1  0  0\n"
     ]
    }
   ],
   "source": [
    "cajas = pd.get_dummies(df[\"tamaño_caja\"])\n",
    "\n",
    "cajas.head()\n",
    "\n",
    "# merge data frame \"df\" and \"dummy_variable_1\" \n",
    "df['grupo_edad'] = pd.cut(edad, bins=bins, labels=labels)\n",
    "df1= pd.concat([df.grupo_edad, cajas], axis=1)\n",
    "df1.rename(columns={1:'S', 2:'M',3:'L'}, inplace=True)\n",
    "print(df1.head())\n"
   ]
  },
  {
   "cell_type": "markdown",
   "metadata": {},
   "source": [
    "Generamos una tabla auxiliar que contiene los 5 grupos de edades y la cantidad de cajas tamaño S,M,L que ha comprado cada grupo."
   ]
  },
  {
   "cell_type": "code",
   "execution_count": 25,
   "metadata": {},
   "outputs": [
    {
     "data": {
      "text/html": [
       "<div>\n",
       "<style scoped>\n",
       "    .dataframe tbody tr th:only-of-type {\n",
       "        vertical-align: middle;\n",
       "    }\n",
       "\n",
       "    .dataframe tbody tr th {\n",
       "        vertical-align: top;\n",
       "    }\n",
       "\n",
       "    .dataframe thead th {\n",
       "        text-align: right;\n",
       "    }\n",
       "</style>\n",
       "<table border=\"1\" class=\"dataframe\">\n",
       "  <thead>\n",
       "    <tr style=\"text-align: right;\">\n",
       "      <th></th>\n",
       "      <th>grupo_edad</th>\n",
       "      <th>S</th>\n",
       "      <th>M</th>\n",
       "      <th>L</th>\n",
       "      <th>total_cajas</th>\n",
       "    </tr>\n",
       "  </thead>\n",
       "  <tbody>\n",
       "    <tr>\n",
       "      <td>0</td>\n",
       "      <td>18-25</td>\n",
       "      <td>7</td>\n",
       "      <td>5</td>\n",
       "      <td>5</td>\n",
       "      <td>17</td>\n",
       "    </tr>\n",
       "    <tr>\n",
       "      <td>1</td>\n",
       "      <td>26-40</td>\n",
       "      <td>6</td>\n",
       "      <td>7</td>\n",
       "      <td>7</td>\n",
       "      <td>20</td>\n",
       "    </tr>\n",
       "    <tr>\n",
       "      <td>2</td>\n",
       "      <td>41-55</td>\n",
       "      <td>10</td>\n",
       "      <td>6</td>\n",
       "      <td>6</td>\n",
       "      <td>22</td>\n",
       "    </tr>\n",
       "    <tr>\n",
       "      <td>3</td>\n",
       "      <td>56-65</td>\n",
       "      <td>5</td>\n",
       "      <td>4</td>\n",
       "      <td>1</td>\n",
       "      <td>10</td>\n",
       "    </tr>\n",
       "    <tr>\n",
       "      <td>4</td>\n",
       "      <td>&gt;66</td>\n",
       "      <td>11</td>\n",
       "      <td>10</td>\n",
       "      <td>10</td>\n",
       "      <td>31</td>\n",
       "    </tr>\n",
       "  </tbody>\n",
       "</table>\n",
       "</div>"
      ],
      "text/plain": [
       "  grupo_edad   S   M   L  total_cajas\n",
       "0      18-25   7   5   5           17\n",
       "1      26-40   6   7   7           20\n",
       "2      41-55  10   6   6           22\n",
       "3      56-65   5   4   1           10\n",
       "4        >66  11  10  10           31"
      ]
     },
     "execution_count": 25,
     "metadata": {},
     "output_type": "execute_result"
    }
   ],
   "source": [
    "%matplotlib inline \n",
    "\n",
    "df1 = df1.groupby(['grupo_edad'],as_index=False).sum()\n",
    "df1['total_cajas'] = df1.S + df1.M + df1.L\n",
    "df1"
   ]
  },
  {
   "cell_type": "markdown",
   "metadata": {},
   "source": [
    "Finalmente, generamos el grafico de barras que muestra cuantas cajas de cada tipo ha comprado cada grupo de edades."
   ]
  },
  {
   "cell_type": "code",
   "execution_count": 29,
   "metadata": {},
   "outputs": [
    {
     "data": {
      "text/plain": [
       "1    39\n",
       "2    32\n",
       "3    29\n",
       "Name: tamaño_caja, dtype: int64"
      ]
     },
     "execution_count": 29,
     "metadata": {},
     "output_type": "execute_result"
    },
    {
     "data": {
      "image/png": "[encoded data removed]",
      "text/plain": [
       "<Figure size 432x288 with 1 Axes>"
      ]
     },
     "metadata": {
      "needs_background": "light"
     },
     "output_type": "display_data"
    }
   ],
   "source": [
    "ax = df1.plot(x='grupo_edad', y = ['S','M','L'], kind='bar')\n",
    "df.tamaño_caja.value_counts()\n"
   ]
  },
  {
   "cell_type": "markdown",
   "metadata": {},
   "source": [
    "Se observa que el grupo de personas mayores a 66 años es el que mas compra cajas de frutas y su caja favorita es la tipo S.\n",
    "\n",
    "Luego sigue el grupo 41-55 años, que prefiere tambien la caja tipo S. Finalmente, sigue el grupo 26-40 años, el cual no muestra diferencia significativa por el tamaño de cajas.\n",
    "\n",
    "Tambien se observa que la caja mas vendida es la tipo S, seguida de M y luego L."
   ]
  },
  {
   "cell_type": "markdown",
   "metadata": {},
   "source": [
    "**3. Frecuencia de compra**\n",
    "\n",
    "Recordemos que la frecuencia de compra está codificada así:\n",
    "\n",
    "* semanal = 1\n",
    "* quincenal = 2\n",
    "* mensual = 3\n",
    "* mayor a 1 mes = 4"
   ]
  },
  {
   "cell_type": "code",
   "execution_count": 34,
   "metadata": {},
   "outputs": [
    {
     "name": "stdout",
     "output_type": "stream",
     "text": [
      "3    36\n",
      "2    23\n",
      "4    22\n",
      "1    19\n",
      "Name: frec_compra, dtype: int64\n"
     ]
    },
    {
     "data": {
      "text/plain": [
       "Text(0.5, 1.0, 'Frecuencia de compra')"
      ]
     },
     "execution_count": 34,
     "metadata": {},
     "output_type": "execute_result"
    },
    {
     "data": {
      "image/png": "[encoded data removed]",
      "text/plain": [
       "<Figure size 432x288 with 1 Axes>"
      ]
     },
     "metadata": {
      "needs_background": "light"
     },
     "output_type": "display_data"
    }
   ],
   "source": [
    "print(df.frec_compra.value_counts())\n",
    "\n",
    "plt.hist(df.frec_compra)\n",
    "\n",
    "# set x/y labels and plot title\n",
    "plt.xlabel(\"Frecuencia de compra\")\n",
    "plt.ylabel(\"Cantidad\")\n",
    "plt.title(\"Frecuencia de compra\")"
   ]
  },
  {
   "cell_type": "markdown",
   "metadata": {},
   "source": [
    "Del grafico anterior se observa que las personas prefieren la compra mensual (código = 3); luego sigue la compra quincenal y mayor a un mes (código = 2 y 4); finalmente la compra semanal (codigo = 1).\n",
    "\n",
    "Por lo tanto, se debe implementar una campaña de marketing para lograr compras más recurrentes, es decir, convertir la mayoria de compras a frecuencia semanal."
   ]
  },
  {
   "cell_type": "markdown",
   "metadata": {},
   "source": [
    "**3.1 Frecuencia de compra vs canal**\n",
    "\n",
    "Primero se genera una tabla auxiliar que relacione el canal de venta y la frecuencia de las compras. También debe tener el total de ventas en cada canal.\n",
    "\n",
    "Recordemos que el canal de venta está codificado así:\n",
    "\n",
    "* 1 = Telefono o postal\n",
    "* 2 = tienda online\n",
    "* 3 = app\n",
    "* 4 = redes sociales\n",
    "\n"
   ]
  },
  {
   "cell_type": "code",
   "execution_count": 44,
   "metadata": {},
   "outputs": [
    {
     "data": {
      "text/html": [
       "<div>\n",
       "<style scoped>\n",
       "    .dataframe tbody tr th:only-of-type {\n",
       "        vertical-align: middle;\n",
       "    }\n",
       "\n",
       "    .dataframe tbody tr th {\n",
       "        vertical-align: top;\n",
       "    }\n",
       "\n",
       "    .dataframe thead th {\n",
       "        text-align: right;\n",
       "    }\n",
       "</style>\n",
       "<table border=\"1\" class=\"dataframe\">\n",
       "  <thead>\n",
       "    <tr style=\"text-align: right;\">\n",
       "      <th></th>\n",
       "      <th>canal</th>\n",
       "      <th>semanal</th>\n",
       "      <th>quincenal</th>\n",
       "      <th>mensual</th>\n",
       "      <th>mayor_1_mes</th>\n",
       "      <th>total_ventas_canal</th>\n",
       "    </tr>\n",
       "  </thead>\n",
       "  <tbody>\n",
       "    <tr>\n",
       "      <td>0</td>\n",
       "      <td>1</td>\n",
       "      <td>3</td>\n",
       "      <td>6</td>\n",
       "      <td>8</td>\n",
       "      <td>5</td>\n",
       "      <td>22</td>\n",
       "    </tr>\n",
       "    <tr>\n",
       "      <td>1</td>\n",
       "      <td>2</td>\n",
       "      <td>4</td>\n",
       "      <td>9</td>\n",
       "      <td>8</td>\n",
       "      <td>5</td>\n",
       "      <td>26</td>\n",
       "    </tr>\n",
       "    <tr>\n",
       "      <td>2</td>\n",
       "      <td>3</td>\n",
       "      <td>4</td>\n",
       "      <td>3</td>\n",
       "      <td>8</td>\n",
       "      <td>4</td>\n",
       "      <td>19</td>\n",
       "    </tr>\n",
       "    <tr>\n",
       "      <td>3</td>\n",
       "      <td>4</td>\n",
       "      <td>8</td>\n",
       "      <td>5</td>\n",
       "      <td>12</td>\n",
       "      <td>8</td>\n",
       "      <td>33</td>\n",
       "    </tr>\n",
       "  </tbody>\n",
       "</table>\n",
       "</div>"
      ],
      "text/plain": [
       "   canal  semanal  quincenal  mensual  mayor_1_mes  total_ventas_canal\n",
       "0      1        3          6        8            5                  22\n",
       "1      2        4          9        8            5                  26\n",
       "2      3        4          3        8            4                  19\n",
       "3      4        8          5       12            8                  33"
      ]
     },
     "execution_count": 44,
     "metadata": {},
     "output_type": "execute_result"
    }
   ],
   "source": [
    "f_compra = pd.get_dummies(df[\"frec_compra\"])\n",
    "\n",
    "# merge data frame \"df\" and \"dummy_variable_1\" \n",
    "\n",
    "df2= pd.concat([df.canal, f_compra], axis=1)\n",
    "\n",
    "df2.rename(columns={1:'semanal', 2:'quincenal',3:'mensual',4:'mayor_1_mes'}, inplace=True)\n",
    "\n",
    "df2['total_ventas_canal'] = df2['semanal'] + df2['quincenal'] + df2['mensual'] + df2['mayor_1_mes'] \n",
    "df2 = df2.groupby(['canal'],as_index=False).sum()\n",
    "df2\n"
   ]
  },
  {
   "cell_type": "markdown",
   "metadata": {},
   "source": [
    "Con la tabla auxiliar generamos el grafico que relaciona el canal de ventas con la frecuencia de las compras."
   ]
  },
  {
   "cell_type": "code",
   "execution_count": 50,
   "metadata": {},
   "outputs": [
    {
     "name": "stdout",
     "output_type": "stream",
     "text": [
      "Codificacion de canales de venta: \n",
      "\n",
      "1 = telefono o correo postal\n",
      "2 = tienda online\n",
      "3 = app movil\n",
      "4 = redes sociales\n",
      "\n"
     ]
    },
    {
     "data": {
      "image/png": "[encoded data removed]",
      "text/plain": [
       "<Figure size 432x288 with 1 Axes>"
      ]
     },
     "metadata": {
      "needs_background": "light"
     },
     "output_type": "display_data"
    }
   ],
   "source": [
    "ax = df2.plot(x='canal', y = ['semanal','quincenal','mensual','mayor_1_mes'], kind='bar')\n",
    "\n",
    "print('Codificacion de canales de venta: \\n')\n",
    "print('1 = telefono o correo postal')\n",
    "print('2 = tienda online')\n",
    "print('3 = app movil')\n",
    "print('4 = redes sociales\\n')\n"
   ]
  },
  {
   "cell_type": "markdown",
   "metadata": {},
   "source": [
    "En el grafico y la tabla anterior se observa que el canal 4: redes sociales es el que mas ventas presenta, seguido por la tienda online, luego telefono y finalmente la app.\n",
    "\n",
    "Esto muestra que se debe incentivar más la compra usando la app movil, y más en esta época de coronavirus. Sin embargo, al ser las redes sociales el mayor canal de venta, se observa que las campañas publicitarias por este medio están alcanzando al público objetivo. Como se mencionó antes, la mayor frecuencia de compras es mensual pero se debe trabajar para convertir esas compras en frecuencia semanal."
   ]
  },
  {
   "cell_type": "markdown",
   "metadata": {},
   "source": [
    "**4. Antigüedad vs Tamaño de caja**\n"
   ]
  },
  {
   "cell_type": "code",
   "execution_count": 52,
   "metadata": {},
   "outputs": [
    {
     "name": "stdout",
     "output_type": "stream",
     "text": [
      "4    30\n",
      "3    29\n",
      "1    23\n",
      "2    18\n",
      "Name: antiguo, dtype: int64\n"
     ]
    },
    {
     "data": {
      "text/plain": [
       "Text(0.5, 1.0, 'Antigüedad de clientes')"
      ]
     },
     "execution_count": 52,
     "metadata": {},
     "output_type": "execute_result"
    },
    {
     "data": {
      "image/png": "[encoded data removed]",
      "text/plain": [
       "<Figure size 432x288 with 1 Axes>"
      ]
     },
     "metadata": {
      "needs_background": "light"
     },
     "output_type": "display_data"
    }
   ],
   "source": [
    "print(df.antiguo.value_counts())\n",
    "\n",
    "plt.hist(df.antiguo)\n",
    "\n",
    "# set x/y labels and plot title\n",
    "plt.xlabel(\"Antigüedad (años)\")\n",
    "plt.ylabel(\"Cantidad de clientes\")\n",
    "plt.title(\"Antigüedad de clientes\")"
   ]
  },
  {
   "cell_type": "markdown",
   "metadata": {},
   "source": [
    "Del grafico anterior se observa que la mayoria de clientes tiene una antigüedad entre 3 y 4 años. Esto indica que puede existir cierta fidelizacion pero tambien muestra que se deben buscar nuevos clientes, ya que el conteo para clientes con antigüedad menor o igual a 1 año es del 23%.\n",
    "\n",
    "Ahora procedemos a graficar la antigüedad de clientes versus el tamaño de cajas."
   ]
  },
  {
   "cell_type": "code",
   "execution_count": 64,
   "metadata": {},
   "outputs": [
    {
     "name": "stdout",
     "output_type": "stream",
     "text": [
      "Total cajas:  100\n"
     ]
    },
    {
     "data": {
      "text/html": [
       "<div>\n",
       "<style scoped>\n",
       "    .dataframe tbody tr th:only-of-type {\n",
       "        vertical-align: middle;\n",
       "    }\n",
       "\n",
       "    .dataframe tbody tr th {\n",
       "        vertical-align: top;\n",
       "    }\n",
       "\n",
       "    .dataframe thead th {\n",
       "        text-align: right;\n",
       "    }\n",
       "</style>\n",
       "<table border=\"1\" class=\"dataframe\">\n",
       "  <thead>\n",
       "    <tr style=\"text-align: right;\">\n",
       "      <th></th>\n",
       "      <th>antiguo</th>\n",
       "      <th>S</th>\n",
       "      <th>M</th>\n",
       "      <th>L</th>\n",
       "    </tr>\n",
       "  </thead>\n",
       "  <tbody>\n",
       "    <tr>\n",
       "      <td>0</td>\n",
       "      <td>1</td>\n",
       "      <td>7</td>\n",
       "      <td>8</td>\n",
       "      <td>8</td>\n",
       "    </tr>\n",
       "    <tr>\n",
       "      <td>1</td>\n",
       "      <td>2</td>\n",
       "      <td>7</td>\n",
       "      <td>6</td>\n",
       "      <td>5</td>\n",
       "    </tr>\n",
       "    <tr>\n",
       "      <td>2</td>\n",
       "      <td>3</td>\n",
       "      <td>12</td>\n",
       "      <td>9</td>\n",
       "      <td>8</td>\n",
       "    </tr>\n",
       "    <tr>\n",
       "      <td>3</td>\n",
       "      <td>4</td>\n",
       "      <td>13</td>\n",
       "      <td>9</td>\n",
       "      <td>8</td>\n",
       "    </tr>\n",
       "  </tbody>\n",
       "</table>\n",
       "</div>"
      ],
      "text/plain": [
       "   antiguo   S  M  L\n",
       "0        1   7  8  8\n",
       "1        2   7  6  5\n",
       "2        3  12  9  8\n",
       "3        4  13  9  8"
      ]
     },
     "execution_count": 64,
     "metadata": {},
     "output_type": "execute_result"
    }
   ],
   "source": [
    "cajas = pd.get_dummies(df[\"tamaño_caja\"])\n",
    "df3= pd.concat([df.antiguo, cajas], axis=1)\n",
    "df3.rename(columns={1:'S', 2:'M',3:'L'}, inplace=True)\n",
    "df3 = df3.groupby(['antiguo'],as_index=False).sum()\n",
    "\n",
    "total_cajas = df3.S.sum() + df3.M.sum() + df3.L.sum()\n",
    "print('Total cajas: ',total_cajas)\n",
    "df3"
   ]
  },
  {
   "cell_type": "code",
   "execution_count": 65,
   "metadata": {},
   "outputs": [
    {
     "data": {
      "image/png": "[encoded data removed]",
      "text/plain": [
       "<Figure size 432x288 with 1 Axes>"
      ]
     },
     "metadata": {
      "needs_background": "light"
     },
     "output_type": "display_data"
    }
   ],
   "source": [
    "ax = df3.plot(x='antiguo', y = ['S','M','L'], kind='bar')"
   ]
  },
  {
   "cell_type": "markdown",
   "metadata": {},
   "source": [
    "Se observa que los clientes entre 3 y 4 años de antigüedad prefieren la caja tamaño S. Por su parte, los clientes que llevan 1 año o menos, no tienen preferencia marcada por alguna de las cajas.\n",
    "\n",
    "Se debe trabajar para continuar fidelizando a los clientes  existentes y para aumentar la cantidad de clientes nuevos."
   ]
  },
  {
   "cell_type": "code",
   "execution_count": null,
   "metadata": {},
   "outputs": [],
   "source": []
  }
 ],
 "metadata": {
  "kernelspec": {
   "display_name": "Python 3",
   "language": "python",
   "name": "python3"
  },
  "language_info": {
   "codemirror_mode": {
    "name": "ipython",
    "version": 3
   },
   "file_extension": ".py",
   "mimetype": "text/x-python",
   "name": "python",
   "nbconvert_exporter": "python",
   "pygments_lexer": "ipython3",
   "version": "3.7.4"
  }
 },
 "nbformat": 4,
 "nbformat_minor": 2
}
